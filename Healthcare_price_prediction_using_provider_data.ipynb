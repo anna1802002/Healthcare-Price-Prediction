{
  "nbformat": 4,
  "nbformat_minor": 0,
  "metadata": {
    "colab": {
      "provenance": [],
      "mount_file_id": "1QHBcOjnMoG2BlKCsTUz_7rAweAFvaucN",
      "authorship_tag": "ABX9TyMOKxkHqjkGWgA9q93guHgb",
      "include_colab_link": true
    },
    "kernelspec": {
      "name": "python3",
      "display_name": "Python 3"
    },
    "language_info": {
      "name": "python"
    }
  },
  "cells": [
    {
      "cell_type": "markdown",
      "metadata": {
        "id": "view-in-github",
        "colab_type": "text"
      },
      "source": [
        "<a href=\"https://colab.research.google.com/github/anna1802002/Healthcare-Price-Prediction/blob/main/Healthcare_price_prediction_using_provider_data.ipynb\" target=\"_parent\"><img src=\"https://colab.research.google.com/assets/colab-badge.svg\" alt=\"Open In Colab\"/></a>"
      ]
    },
    {
      "cell_type": "code",
      "execution_count": 13,
      "metadata": {
        "colab": {
          "base_uri": "https://localhost:8080/"
        },
        "id": "8fzT7ee_stNS",
        "outputId": "d41b292b-aab3-46b1-ef39-d2ede5c26ec4"
      },
      "outputs": [
        {
          "output_type": "stream",
          "name": "stderr",
          "text": [
            "<ipython-input-13-7c9a276a620c>:6: DtypeWarning: Columns (6,7,8,9,10) have mixed types. Specify dtype option on import or set low_memory=False.\n",
            "  enrollment_df = pd.read_csv('/content/drive/MyDrive/Medicare Fee-For-Service  Public Provider Enrollment/2024-Q2/PPEF_Enrollment_Extract_2024.07.01.csv', encoding='latin1')\n"
          ]
        }
      ],
      "source": [
        "import pandas as pd\n",
        "import warnings\n",
        "warnings.filterwarnings(\"ignore\", category=FutureWarning)\n",
        "\n",
        "# Load datasets with specified encoding 'latin1'\n",
        "enrollment_df = pd.read_csv('/content/drive/MyDrive/Medicare Fee-For-Service  Public Provider Enrollment/2024-Q2/PPEF_Enrollment_Extract_2024.07.01.csv', encoding='latin1')\n",
        "location_df = pd.read_csv('/content/drive/MyDrive/Medicare Fee-For-Service  Public Provider Enrollment/2024-Q2/PPEF_Practice_Location_Extract_2024.07.01.csv', encoding='latin1')\n",
        "reassignment_df = pd.read_csv('/content/drive/MyDrive/Medicare Fee-For-Service  Public Provider Enrollment/2024-Q2/PPEF_Reassignment_Extract_2024.07.01.csv', encoding='latin1')\n",
        "specialty_df = pd.read_csv('/content/drive/MyDrive/Medicare Fee-For-Service  Public Provider Enrollment/2024-Q2/PPEF_Secondary_Specialty_Extract_2024.07.01.csv', encoding='latin1')\n",
        "\n",
        "\n"
      ]
    },
    {
      "cell_type": "code",
      "source": [
        "# Display basic information to understand the structure\n",
        "print(\"Enrollment Data Info\")\n",
        "print(enrollment_df.info())\n",
        "print(enrollment_df.head())\n",
        "\n",
        "print(\"\\nPractice Location Data Info\")\n",
        "print(location_df.info())\n",
        "print(location_df.head())\n",
        "\n",
        "print(\"\\nReassignment Data Info\")\n",
        "print(reassignment_df.info())\n",
        "print(reassignment_df.head())\n",
        "\n",
        "print(\"\\nSpecialty Data Info\")\n",
        "print(specialty_df.info())\n",
        "print(specialty_df.head())\n"
      ],
      "metadata": {
        "colab": {
          "base_uri": "https://localhost:8080/"
        },
        "id": "ugLcbL6ikobY",
        "outputId": "9a259a72-9c9d-4fc9-ed11-3c5f3a5e5fc3"
      },
      "execution_count": 14,
      "outputs": [
        {
          "output_type": "stream",
          "name": "stdout",
          "text": [
            "Enrollment Data Info\n",
            "<class 'pandas.core.frame.DataFrame'>\n",
            "RangeIndex: 2844889 entries, 0 to 2844888\n",
            "Data columns (total 11 columns):\n",
            " #   Column              Dtype \n",
            "---  ------              ----- \n",
            " 0   NPI                 int64 \n",
            " 1   PECOS_ASCT_CNTL_ID  int64 \n",
            " 2   ENRLMT_ID           object\n",
            " 3   PROVIDER_TYPE_CD    object\n",
            " 4   PROVIDER_TYPE_DESC  object\n",
            " 5   STATE_CD            object\n",
            " 6   FIRST_NAME          object\n",
            " 7   MDL_NAME            object\n",
            " 8   LAST_NAME           object\n",
            " 9   ORG_NAME            object\n",
            " 10  GNDR_SW             object\n",
            "dtypes: int64(2), object(9)\n",
            "memory usage: 238.8+ MB\n",
            "None\n",
            "          NPI  PECOS_ASCT_CNTL_ID        ENRLMT_ID PROVIDER_TYPE_CD  \\\n",
            "0  1003879883          8022920719  I20031103000001            14-16   \n",
            "1  1003976986          7113839812  I20031103000005            14-68   \n",
            "2  1407802119          8022920727  I20031103000007            14-93   \n",
            "3  1831165075          5193637890  I20031103000013            14-16   \n",
            "4  1851357214          2466364161  I20031103000014            14-30   \n",
            "\n",
            "                     PROVIDER_TYPE_DESC STATE_CD   FIRST_NAME MDL_NAME  \\\n",
            "0  PRACTITIONER - OBSTETRICS/GYNECOLOGY       PR      ANTONIO      NaN   \n",
            "1  PRACTITIONER - CLINICAL PSYCHOLOGIST       PA  CHRISTOPHER        J   \n",
            "2     PRACTITIONER - EMERGENCY MEDICINE       PA      KADISHA        B   \n",
            "3  PRACTITIONER - OBSTETRICS/GYNECOLOGY       PR        JORGE        A   \n",
            "4   PRACTITIONER - DIAGNOSTIC RADIOLOGY       KY       RHONDA        G   \n",
            "\n",
            "           LAST_NAME ORG_NAME GNDR_SW  \n",
            "0  ALVAREZ RODRIGUEZ      NaN       M  \n",
            "1            ZIEGLER      NaN       M  \n",
            "2               RAPP      NaN       F  \n",
            "3       OSTOLAZA BEY      NaN       M  \n",
            "4            GRISSOM      NaN       F  \n",
            "\n",
            "Practice Location Data Info\n",
            "<class 'pandas.core.frame.DataFrame'>\n",
            "RangeIndex: 1074242 entries, 0 to 1074241\n",
            "Data columns (total 4 columns):\n",
            " #   Column     Non-Null Count    Dtype \n",
            "---  ------     --------------    ----- \n",
            " 0   ENRLMT_ID  1074242 non-null  object\n",
            " 1   CITY_NAME  1074242 non-null  object\n",
            " 2   STATE_CD   1074242 non-null  object\n",
            " 3   ZIP_CD     1074242 non-null  int64 \n",
            "dtypes: int64(1), object(3)\n",
            "memory usage: 32.8+ MB\n",
            "None\n",
            "         ENRLMT_ID      CITY_NAME STATE_CD     ZIP_CD\n",
            "0  I20031103000005  MECHANICSBURG       PA  170501925\n",
            "1  I20031103000013       SAN JUAN       PR    9175030\n",
            "2  I20031103000015     TOMS RIVER       NJ       8757\n",
            "3  I20031103000028    JERSEY CITY       NJ   73062305\n",
            "4  I20031103000030      AGUADILLA       PR    6055256\n",
            "\n",
            "Reassignment Data Info\n",
            "<class 'pandas.core.frame.DataFrame'>\n",
            "RangeIndex: 3229168 entries, 0 to 3229167\n",
            "Data columns (total 2 columns):\n",
            " #   Column                 Dtype \n",
            "---  ------                 ----- \n",
            " 0   REASGN_BNFT_ENRLMT_ID  object\n",
            " 1   RCV_BNFT_ENRLMT_ID     object\n",
            "dtypes: object(2)\n",
            "memory usage: 49.3+ MB\n",
            "None\n",
            "  REASGN_BNFT_ENRLMT_ID RCV_BNFT_ENRLMT_ID\n",
            "0       I20031103000001    O20031216000213\n",
            "1       I20031103000001    O20111004000177\n",
            "2       I20031103000007    O20040308000883\n",
            "3       I20031103000007    O20051206000046\n",
            "4       I20031103000014    O20031229000649\n",
            "\n",
            "Specialty Data Info\n",
            "<class 'pandas.core.frame.DataFrame'>\n",
            "RangeIndex: 499962 entries, 0 to 499961\n",
            "Data columns (total 3 columns):\n",
            " #   Column              Non-Null Count   Dtype \n",
            "---  ------              --------------   ----- \n",
            " 0   ENRLMT_ID           499962 non-null  object\n",
            " 1   PROVIDER_TYPE_CD    499962 non-null  object\n",
            " 2   PROVIDER_TYPE_DESC  499962 non-null  object\n",
            "dtypes: object(3)\n",
            "memory usage: 11.4+ MB\n",
            "None\n",
            "         ENRLMT_ID PROVIDER_TYPE_CD  \\\n",
            "0  I20031103000037            14-11   \n",
            "1  I20031103000037            14-81   \n",
            "2  I20031103000039            14-19   \n",
            "3  I20031103000089            14-09   \n",
            "4  I20031103000123            14-30   \n",
            "\n",
            "                              PROVIDER_TYPE_DESC  \n",
            "0               PRACTITIONER - INTERNAL MEDICINE  \n",
            "1    PRACTITIONER - CRITICAL CARE (INTENSIVISTS)  \n",
            "2                    PRACTITIONER - ORAL SURGERY  \n",
            "3  PRACTITIONER - INTERVENTIONAL PAIN MANAGEMENT  \n",
            "4            PRACTITIONER - DIAGNOSTIC RADIOLOGY  \n"
          ]
        }
      ]
    },
    {
      "cell_type": "code",
      "source": [
        "# Check for missing values in each dataset\n",
        "print(\"\\nMissing values in Enrollment Data\")\n",
        "print(enrollment_df.isnull().sum())\n",
        "\n",
        "print(\"\\nMissing values in Practice Location Data\")\n",
        "print(location_df.isnull().sum())\n",
        "\n",
        "print(\"\\nMissing values in Reassignment Data\")\n",
        "print(reassignment_df.isnull().sum())\n",
        "\n",
        "print(\"\\nMissing values in Specialty Data\")\n",
        "print(specialty_df.isnull().sum())\n",
        "\n",
        "# Handling missing values by forward filling\n",
        "enrollment_df.fillna(method='ffill', inplace=True)\n",
        "location_df.fillna(method='ffill', inplace=True)\n",
        "reassignment_df.fillna(method='ffill', inplace=True)\n",
        "specialty_df.fillna(method='ffill', inplace=True)\n",
        "\n",
        "# Additional check for any remaining missing values\n",
        "print(\"\\nMissing values after forward filling:\")\n",
        "print(\"Enrollment Data:\\n\", enrollment_df.isnull().sum())\n",
        "print(\"Practice Location Data:\\n\", location_df.isnull().sum())\n",
        "print(\"Reassignment Data:\\n\", reassignment_df.isnull().sum())\n",
        "print(\"Specialty Data:\\n\", specialty_df.isnull().sum())\n"
      ],
      "metadata": {
        "colab": {
          "base_uri": "https://localhost:8080/"
        },
        "id": "oRumQ1CzjYkH",
        "outputId": "a4607645-353c-483a-850a-9e8b22655b62"
      },
      "execution_count": 15,
      "outputs": [
        {
          "output_type": "stream",
          "name": "stdout",
          "text": [
            "\n",
            "Missing values in Enrollment Data\n",
            "NPI                         0\n",
            "PECOS_ASCT_CNTL_ID          0\n",
            "ENRLMT_ID                   0\n",
            "PROVIDER_TYPE_CD            0\n",
            "PROVIDER_TYPE_DESC          0\n",
            "STATE_CD                    0\n",
            "FIRST_NAME             443867\n",
            "MDL_NAME              1269526\n",
            "LAST_NAME              443907\n",
            "ORG_NAME              2401047\n",
            "GNDR_SW                771861\n",
            "dtype: int64\n",
            "\n",
            "Missing values in Practice Location Data\n",
            "ENRLMT_ID    0\n",
            "CITY_NAME    0\n",
            "STATE_CD     0\n",
            "ZIP_CD       0\n",
            "dtype: int64\n",
            "\n",
            "Missing values in Reassignment Data\n",
            "REASGN_BNFT_ENRLMT_ID    0\n",
            "RCV_BNFT_ENRLMT_ID       0\n",
            "dtype: int64\n",
            "\n",
            "Missing values in Specialty Data\n",
            "ENRLMT_ID             0\n",
            "PROVIDER_TYPE_CD      0\n",
            "PROVIDER_TYPE_DESC    0\n",
            "dtype: int64\n",
            "\n",
            "Missing values after forward filling:\n",
            "Enrollment Data:\n",
            " NPI                         0\n",
            "PECOS_ASCT_CNTL_ID          0\n",
            "ENRLMT_ID                   0\n",
            "PROVIDER_TYPE_CD            0\n",
            "PROVIDER_TYPE_DESC          0\n",
            "STATE_CD                    0\n",
            "FIRST_NAME                  0\n",
            "MDL_NAME                    1\n",
            "LAST_NAME                   0\n",
            "ORG_NAME              2401047\n",
            "GNDR_SW                     0\n",
            "dtype: int64\n",
            "Practice Location Data:\n",
            " ENRLMT_ID    0\n",
            "CITY_NAME    0\n",
            "STATE_CD     0\n",
            "ZIP_CD       0\n",
            "dtype: int64\n",
            "Reassignment Data:\n",
            " REASGN_BNFT_ENRLMT_ID    0\n",
            "RCV_BNFT_ENRLMT_ID       0\n",
            "dtype: int64\n",
            "Specialty Data:\n",
            " ENRLMT_ID             0\n",
            "PROVIDER_TYPE_CD      0\n",
            "PROVIDER_TYPE_DESC    0\n",
            "dtype: int64\n"
          ]
        }
      ]
    },
    {
      "cell_type": "code",
      "source": [
        "print(\"Enrollment DataFrame columns:\", enrollment_df.columns)\n",
        "print(\"Location DataFrame columns:\", location_df.columns)\n",
        "print(\"Reassignment DataFrame columns:\", reassignment_df.columns)\n",
        "print(\"Specialty DataFrame columns:\", specialty_df.columns)\n"
      ],
      "metadata": {
        "colab": {
          "base_uri": "https://localhost:8080/"
        },
        "id": "onZxv_u10CYp",
        "outputId": "fe65943a-7b0c-41e5-c85a-7a6be73902e4"
      },
      "execution_count": 16,
      "outputs": [
        {
          "output_type": "stream",
          "name": "stdout",
          "text": [
            "Enrollment DataFrame columns: Index(['NPI', 'PECOS_ASCT_CNTL_ID', 'ENRLMT_ID', 'PROVIDER_TYPE_CD',\n",
            "       'PROVIDER_TYPE_DESC', 'STATE_CD', 'FIRST_NAME', 'MDL_NAME', 'LAST_NAME',\n",
            "       'ORG_NAME', 'GNDR_SW'],\n",
            "      dtype='object')\n",
            "Location DataFrame columns: Index(['ENRLMT_ID', 'CITY_NAME', 'STATE_CD', 'ZIP_CD'], dtype='object')\n",
            "Reassignment DataFrame columns: Index(['REASGN_BNFT_ENRLMT_ID', 'RCV_BNFT_ENRLMT_ID'], dtype='object')\n",
            "Specialty DataFrame columns: Index(['ENRLMT_ID', 'PROVIDER_TYPE_CD', 'PROVIDER_TYPE_DESC'], dtype='object')\n"
          ]
        }
      ]
    },
    {
      "cell_type": "code",
      "source": [
        "# Merge datasets on 'ENRLMT_ID'\n",
        "merged_df = enrollment_df.merge(location_df, on='ENRLMT_ID', how='left')\n",
        "merged_df = merged_df.merge(reassignment_df, left_on='ENRLMT_ID', right_on='REASGN_BNFT_ENRLMT_ID', how='left')\n",
        "merged_df = merged_df.merge(specialty_df, on='ENRLMT_ID', how='left')\n",
        "\n",
        "# Use 'PROVIDER_TYPE_CD_y' for counting specialties\n",
        "merged_df['Specialty_Count'] = merged_df.groupby('ENRLMT_ID')['PROVIDER_TYPE_CD_y'].transform('count')\n",
        "\n",
        "# Use 'ZIP_CD' for counting locations\n",
        "merged_df['Location_Count'] = merged_df.groupby('ENRLMT_ID')['ZIP_CD'].transform('count')\n",
        "\n",
        "# Drop duplicates if any\n",
        "merged_df = merged_df.drop_duplicates(subset='ENRLMT_ID')\n",
        "\n",
        "# Display the first few rows of the merged dataframe\n",
        "print(merged_df.head())\n"
      ],
      "metadata": {
        "colab": {
          "base_uri": "https://localhost:8080/"
        },
        "id": "iSQ_dhlNyhCG",
        "outputId": "f6b39c38-362c-4d53-94a7-0bada1258705"
      },
      "execution_count": 17,
      "outputs": [
        {
          "output_type": "stream",
          "name": "stdout",
          "text": [
            "          NPI  PECOS_ASCT_CNTL_ID        ENRLMT_ID PROVIDER_TYPE_CD_x  \\\n",
            "0  1003879883          8022920719  I20031103000001              14-16   \n",
            "2  1003976986          7113839812  I20031103000005              14-68   \n",
            "3  1407802119          8022920727  I20031103000007              14-93   \n",
            "5  1831165075          5193637890  I20031103000013              14-16   \n",
            "6  1851357214          2466364161  I20031103000014              14-30   \n",
            "\n",
            "                   PROVIDER_TYPE_DESC_x STATE_CD_x   FIRST_NAME MDL_NAME  \\\n",
            "0  PRACTITIONER - OBSTETRICS/GYNECOLOGY         PR      ANTONIO      NaN   \n",
            "2  PRACTITIONER - CLINICAL PSYCHOLOGIST         PA  CHRISTOPHER        J   \n",
            "3     PRACTITIONER - EMERGENCY MEDICINE         PA      KADISHA        B   \n",
            "5  PRACTITIONER - OBSTETRICS/GYNECOLOGY         PR        JORGE        A   \n",
            "6   PRACTITIONER - DIAGNOSTIC RADIOLOGY         KY       RHONDA        G   \n",
            "\n",
            "           LAST_NAME ORG_NAME GNDR_SW      CITY_NAME STATE_CD_y       ZIP_CD  \\\n",
            "0  ALVAREZ RODRIGUEZ      NaN       M            NaN        NaN          NaN   \n",
            "2            ZIEGLER      NaN       M  MECHANICSBURG         PA  170501925.0   \n",
            "3               RAPP      NaN       F            NaN        NaN          NaN   \n",
            "5       OSTOLAZA BEY      NaN       M       SAN JUAN         PR    9175030.0   \n",
            "6            GRISSOM      NaN       F            NaN        NaN          NaN   \n",
            "\n",
            "  REASGN_BNFT_ENRLMT_ID RCV_BNFT_ENRLMT_ID PROVIDER_TYPE_CD_y  \\\n",
            "0       I20031103000001    O20031216000213                NaN   \n",
            "2                   NaN                NaN                NaN   \n",
            "3       I20031103000007    O20040308000883                NaN   \n",
            "5                   NaN                NaN                NaN   \n",
            "6       I20031103000014    O20031229000649                NaN   \n",
            "\n",
            "  PROVIDER_TYPE_DESC_y  Specialty_Count  Location_Count  \n",
            "0                  NaN                0               0  \n",
            "2                  NaN                0               1  \n",
            "3                  NaN                0               0  \n",
            "5                  NaN                0               1  \n",
            "6                  NaN                0               0  \n"
          ]
        }
      ]
    },
    {
      "cell_type": "code",
      "source": [
        "print(\"Columns in merged_df:\", merged_df.columns)\n"
      ],
      "metadata": {
        "colab": {
          "base_uri": "https://localhost:8080/"
        },
        "id": "ARHLOhXQIjef",
        "outputId": "7bacb862-9119-426a-f831-ade6ad64d03c"
      },
      "execution_count": 18,
      "outputs": [
        {
          "output_type": "stream",
          "name": "stdout",
          "text": [
            "Columns in merged_df: Index(['NPI', 'PECOS_ASCT_CNTL_ID', 'ENRLMT_ID', 'PROVIDER_TYPE_CD_x',\n",
            "       'PROVIDER_TYPE_DESC_x', 'STATE_CD_x', 'FIRST_NAME', 'MDL_NAME',\n",
            "       'LAST_NAME', 'ORG_NAME', 'GNDR_SW', 'CITY_NAME', 'STATE_CD_y', 'ZIP_CD',\n",
            "       'REASGN_BNFT_ENRLMT_ID', 'RCV_BNFT_ENRLMT_ID', 'PROVIDER_TYPE_CD_y',\n",
            "       'PROVIDER_TYPE_DESC_y', 'Specialty_Count', 'Location_Count'],\n",
            "      dtype='object')\n"
          ]
        }
      ]
    },
    {
      "cell_type": "markdown",
      "source": [
        "Model Development"
      ],
      "metadata": {
        "id": "BpCSUBs7hQWZ"
      }
    },
    {
      "cell_type": "code",
      "source": [
        "from sklearn.preprocessing import StandardScaler\n",
        "\n",
        "# Scale the numerical features\n",
        "scaler = StandardScaler()\n",
        "\n",
        "# Apply scaling to 'Specialty_Count' and 'Location_Count'\n",
        "merged_df[['Specialty_Count_Scaled', 'Location_Count_Scaled']] = scaler.fit_transform(merged_df[['Specialty_Count', 'Location_Count']])\n",
        "\n",
        "# Check scaled features\n",
        "print(merged_df[['Specialty_Count_Scaled', 'Location_Count_Scaled']].head())\n"
      ],
      "metadata": {
        "colab": {
          "base_uri": "https://localhost:8080/"
        },
        "id": "KdOE2wy80JWV",
        "outputId": "53f9277b-60d7-4cfe-de18-fbe280d03368"
      },
      "execution_count": 19,
      "outputs": [
        {
          "output_type": "stream",
          "name": "stdout",
          "text": [
            "   Specialty_Count_Scaled  Location_Count_Scaled\n",
            "0               -0.247981              -0.072841\n",
            "2               -0.247981               0.112867\n",
            "3               -0.247981              -0.072841\n",
            "5               -0.247981               0.112867\n",
            "6               -0.247981              -0.072841\n"
          ]
        }
      ]
    },
    {
      "cell_type": "code",
      "source": [
        "import numpy as np\n",
        "# Create interaction features between Specialty_Count and Location_Count\n",
        "merged_df['Specialty_Location_Interaction'] = merged_df['Specialty_Count'] * merged_df['Location_Count']\n",
        "\n",
        "# Interaction between Specialty_Count and the logarithmic version of Location_Count\n",
        "merged_df['Specialty_LogLocation_Interaction'] = merged_df['Specialty_Count'] * np.log1p(merged_df['Location_Count'])\n",
        "\n",
        "# Check interaction features\n",
        "print(merged_df[['Specialty_Location_Interaction', 'Specialty_LogLocation_Interaction']].head())\n"
      ],
      "metadata": {
        "colab": {
          "base_uri": "https://localhost:8080/"
        },
        "id": "pX_ChxQPfzYD",
        "outputId": "1edc4acc-6a01-4ed7-c929-a29d40491086"
      },
      "execution_count": 22,
      "outputs": [
        {
          "output_type": "stream",
          "name": "stdout",
          "text": [
            "   Specialty_Location_Interaction  Specialty_LogLocation_Interaction\n",
            "0                               0                                0.0\n",
            "2                               0                                0.0\n",
            "3                               0                                0.0\n",
            "5                               0                                0.0\n",
            "6                               0                                0.0\n"
          ]
        }
      ]
    },
    {
      "cell_type": "code",
      "source": [
        "# Define a function to group provider types into broader categories\n",
        "def group_provider_types(provider_type):\n",
        "    if provider_type in ['Specialty1', 'Specialty2']:  # Replace with actual categories\n",
        "        return 'Group1'\n",
        "    elif provider_type in ['Specialty3', 'Specialty4']:  # Replace with actual categories\n",
        "        return 'Group2'\n",
        "    else:\n",
        "        return 'Other'\n",
        "\n",
        "# Apply grouping to the 'PROVIDER_TYPE_CD_y' column to create 'Provider_Type_Grouped'\n",
        "merged_df['Provider_Type_Grouped'] = merged_df['PROVIDER_TYPE_CD_y'].apply(group_provider_types)\n",
        "\n",
        "# Check if the new column is created\n",
        "print(merged_df[['PROVIDER_TYPE_CD_y', 'Provider_Type_Grouped']].head())\n"
      ],
      "metadata": {
        "colab": {
          "base_uri": "https://localhost:8080/"
        },
        "id": "hhnLcnHYgeQv",
        "outputId": "d6e603d8-7b9b-4bcb-a43e-0422b9105b66"
      },
      "execution_count": 24,
      "outputs": [
        {
          "output_type": "stream",
          "name": "stdout",
          "text": [
            "  PROVIDER_TYPE_CD_y Provider_Type_Grouped\n",
            "0                NaN                 Other\n",
            "2                NaN                 Other\n",
            "3                NaN                 Other\n",
            "5                NaN                 Other\n",
            "6                NaN                 Other\n"
          ]
        }
      ]
    },
    {
      "cell_type": "code",
      "source": [
        "# One-hot encoding the 'Provider_Type_Grouped' column\n",
        "merged_df = pd.get_dummies(merged_df, columns=['Provider_Type_Grouped'], drop_first=True)\n",
        "\n",
        "# Check one-hot encoded columns\n",
        "print(merged_df.filter(like='Provider_Type_Grouped').head())\n"
      ],
      "metadata": {
        "colab": {
          "base_uri": "https://localhost:8080/"
        },
        "id": "pYSpLFDOhAxj",
        "outputId": "3ff7f2fa-3659-4d5b-85b6-8d307ad65b98"
      },
      "execution_count": 25,
      "outputs": [
        {
          "output_type": "stream",
          "name": "stdout",
          "text": [
            "Empty DataFrame\n",
            "Columns: []\n",
            "Index: [0, 2, 3, 5, 6]\n"
          ]
        }
      ]
    }
  ]
}